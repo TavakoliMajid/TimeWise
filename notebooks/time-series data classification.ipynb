{
 "cells": [
  {
   "cell_type": "code",
   "execution_count": 1,
   "metadata": {},
   "outputs": [],
   "source": [
    "import pandas as pd\n",
    "import numpy as np\n",
    "import random\n",
    "import math"
   ]
  },
  {
   "cell_type": "code",
   "execution_count": 2,
   "metadata": {},
   "outputs": [],
   "source": [
    "# Define the Node class\n",
    "class Node:\n",
    "    def __init__(self):\n",
    "        self.positive_child = None\n",
    "        self.negative_child = None\n",
    "        self.label = None\n",
    "        self.rule = None\n",
    "\n",
    "# Define helper functions\n",
    "def create_node():\n",
    "    return Node()\n"
   ]
  },
  {
   "cell_type": "code",
   "execution_count": 3,
   "metadata": {},
   "outputs": [],
   "source": [
    "def determine_class_label(Tsv):\n",
    "    #print(\"Tsv in determine_class_label:\", Tsv[:5])  # Add this line to check the input\n",
    "    if not Tsv:\n",
    "        return None\n",
    "    \n",
    "    label_count = {}\n",
    "    for ts, label in Tsv:\n",
    "        if label in label_count:\n",
    "            label_count[label] += 1\n",
    "        else:\n",
    "            label_count[label] = 1\n",
    "    return max(label_count, key=label_count.get)\n"
   ]
  },
  {
   "cell_type": "code",
   "execution_count": 4,
   "metadata": {},
   "outputs": [],
   "source": [
    "def set_node_label(node, label):\n",
    "    node.label = label\n",
    "\n",
    "def label_node(node, rule):\n",
    "    node.rule = rule\n",
    "\n",
    "def satisfies_rule(ts, rule):\n",
    "    pts, index = rule\n",
    "    if not isinstance(pts, (list, tuple)) or not isinstance(index, int):\n",
    "        return False\n",
    "    \n",
    "    if index < 0 or index >= len(ts):\n",
    "        return False\n",
    "    \n",
    "    subseq = ts[index: index + len(pts)]\n",
    "    for i, (value, sign) in enumerate(pts):\n",
    "        if (sign == '+' and subseq[i] < value) or (sign == '-' and subseq[i] > value):\n",
    "            return False\n",
    "    return True\n"
   ]
  },
  {
   "cell_type": "code",
   "execution_count": 5,
   "metadata": {},
   "outputs": [],
   "source": [
    "def split_dataset(Tsv, rule):\n",
    "    Tsv_positive = [(ts, label) for ts, label in Tsv if satisfies_rule(ts, rule)]\n",
    "    Tsv_negative = [(ts, label) for ts, label in Tsv if not satisfies_rule(ts, rule)]\n",
    "    #print(\"Tsv_positive:\", Tsv_positive[:5])  # Add this line to check the output\n",
    "    #print(\"Tsv_negative:\", Tsv_negative[:5])  # Add this line to check the output\n",
    "    return Tsv_positive, Tsv_negative\n"
   ]
  },
  {
   "cell_type": "code",
   "execution_count": 6,
   "metadata": {},
   "outputs": [],
   "source": [
    "def check_support(pts, Tsv, min_support=0.1):\n",
    "    count = sum(1 for ts, _ in Tsv if satisfies_rule(ts, (pts, 0)))\n",
    "    support = count / len(Tsv)\n",
    "    return support >= min_support\n",
    "\n",
    "def calculate_confidence(pts, Tsv):\n",
    "    satisfying_instances = [(ts, label) for ts, label in Tsv if satisfies_rule(ts, (pts, 0))]\n",
    "    \n",
    "    if not satisfying_instances:\n",
    "        return 0.0\n",
    "    \n",
    "    correct_classifications = sum(1 for ts, label in satisfying_instances if determine_class_label([(ts, label)]) == label)\n",
    "    \n",
    "    confidence = correct_classifications / len(satisfying_instances)\n",
    "    \n",
    "    return confidence\n"
   ]
  },
  {
   "cell_type": "code",
   "execution_count": 7,
   "metadata": {},
   "outputs": [],
   "source": [
    "def check_interesting_measures(pts, M, Tsv):\n",
    "    support = check_support(pts, Tsv)\n",
    "    confidence = calculate_confidence(pts, Tsv)\n",
    "    \n",
    "    return M['support'][0] <= support <= M['support'][1] and M['confidence'][0] <= confidence <= M['confidence'][1]\n"
   ]
  },
  {
   "cell_type": "code",
   "execution_count": 8,
   "metadata": {},
   "outputs": [],
   "source": [
    "def generate_candidate_patterns(Tsv, M):\n",
    "    if not Tsv:\n",
    "        return None  # Handle case where Tsv is empty\n",
    "    \n",
    "    I = set()\n",
    "    r = []\n",
    "    \n",
    "    while True:\n",
    "        ts, label = random.choice(Tsv)\n",
    "        i = random.choice([idx for idx in range(len(ts)) if idx not in I])\n",
    "        I.add(i)\n",
    "        \n",
    "        ts_prime, _ = random.choice(Tsv)\n",
    "        \n",
    "        pattern_element = (ts[i], ts_prime[i] >= ts[i], i)\n",
    "        r.append(pattern_element)\n",
    "        \n",
    "        sorted_I = sorted(I)\n",
    "        pts = [(ts[idx], pattern_element[1]) for idx in sorted_I]\n",
    "        \n",
    "        if len(pts) < 2:\n",
    "            continue\n",
    "        \n",
    "        if check_support(pts, Tsv) and check_interesting_measures(pts, M, Tsv):\n",
    "            return pts\n"
   ]
  },
  {
   "cell_type": "code",
   "execution_count": 9,
   "metadata": {},
   "outputs": [],
   "source": [
    "def calculate_loss(rpts, Tsv, L):\n",
    "    loss = 0.0\n",
    "    return loss\n",
    "\n",
    "def select_best_pattern_rule(RPTSv, Tsv, L):\n",
    "    best_rpts = None\n",
    "    best_loss = float('inf')\n",
    "    \n",
    "    for rpts in RPTSv:\n",
    "        loss = calculate_loss(rpts, Tsv, L)\n",
    "        if loss < best_loss:\n",
    "            best_loss = loss\n",
    "            best_rpts = rpts\n",
    "    \n",
    "    return best_rpts\n"
   ]
  },
  {
   "cell_type": "code",
   "execution_count": 10,
   "metadata": {},
   "outputs": [],
   "source": [
    "# Define the rpts_tree function\n",
    "def rpts_tree(Ts, M, L, max_height, min_samples):\n",
    "    def build_tree(Ts, M, L, current_height):\n",
    "        v = create_node()\n",
    "        \n",
    "        Tsv = Ts\n",
    "        #print(\"Tsv in build_tree:\", Tsv[:5])  # Add this line to check the input\n",
    "        \n",
    "        class_label = determine_class_label(Tsv)\n",
    "        if class_label is None:\n",
    "            return v\n",
    "        \n",
    "        set_node_label(v, class_label)\n",
    "        \n",
    "        if len(Tsv) == 0:\n",
    "            return v\n",
    "        \n",
    "        RPTSv = generate_candidate_patterns(Tsv, M)\n",
    "        \n",
    "        if RPTSv is None:\n",
    "            return v\n",
    "        \n",
    "        rptsv = select_best_pattern_rule(RPTSv, Tsv, L)\n",
    "        \n",
    "        label_node(v, rptsv)\n",
    "        \n",
    "        Tsv_positive, Tsv_negative = split_dataset(Tsv, rptsv)\n",
    "        \n",
    "        if current_height >= max_height or len(Tsv) < min_samples:\n",
    "            return v\n",
    "        \n",
    "        v.positive_child = build_tree(Tsv_positive, M, L, current_height + 1)\n",
    "        v.negative_child = build_tree(Tsv_negative, M, L, current_height + 1)\n",
    "        \n",
    "        return v\n",
    "    \n",
    "    return build_tree(Ts, M, L, 0)\n"
   ]
  },
  {
   "cell_type": "code",
   "execution_count": 11,
   "metadata": {},
   "outputs": [],
   "source": [
    "# Function to print the tree structure\n",
    "def print_tree(node, level=0):\n",
    "    indent = \"  \" * level\n",
    "    if node is None:\n",
    "        return\n",
    "    print(f\"{indent}Node: Label={node.label}, Rule={node.rule}\")\n",
    "    print_tree(node.positive_child, level + 1)\n",
    "    print_tree(node.negative_child, level + 1)\n"
   ]
  },
  {
   "cell_type": "code",
   "execution_count": 13,
   "metadata": {},
   "outputs": [],
   "source": [
    "# Load the dataset\n",
    "file_path = '/Users/majidtavakoli/Documents/Medical_bionformatics/decision support systems/Ecxersices/DataSummary.csv'  # Replace with the actual file path if needed\n",
    "data = pd.read_csv(file_path)\n",
    "\n",
    "# Assuming the 'Class' column contains the class label\n",
    "class_column = 'Class'\n",
    "\n",
    "# Assuming time-series data are in a specific range of columns\n",
    "# In this case, we'll assume the time-series data start from the 'Train' column to 'DTW (w=100)'\n",
    "time_series_columns = data.columns[3:12]  # Adjust the range according to your dataset\n",
    "\n",
    "# Convert the dataframe to a list of tuples (time_series, label)\n",
    "Ts = [(row[time_series_columns].apply(pd.to_numeric, errors='coerce').fillna(0).values.tolist(), row[class_column]) for index, row in data.iterrows()]\n",
    "#print(\"Converted Ts:\", Ts[:5])  # Add this line to check the conversion\n",
    "\n",
    "# Define the set of interesting measures M\n",
    "M = {\n",
    "    'support': (0.1, 1.0),  # Example measure: Support should be between 10% and 100%\n",
    "    'confidence': (0.5, 1.0)  # Example measure: Confidence should be between 50% and 100%\n",
    "}\n",
    "\n",
    "#salad code:\n",
    "data_list = [ [float(f) for f in x[1].values[0].split()] for x in list(data.iterrows())  ]\n",
    "x = [l[1:] for l in data_list]\n",
    "y = [l[0] for l in data_list]\n",
    "x,y"
   ]
  },
  {
   "cell_type": "code",
   "execution_count": 14,
   "metadata": {},
   "outputs": [],
   "source": [
    "# Define the loss function L (for example, information gain)\n",
    "def information_gain(parent, left_child, right_child):\n",
    "    def entropy(class_counts):\n",
    "        total = sum(class_counts)\n",
    "        return -sum((count / total) * math.log2(count / total) for count in class_counts if count != 0)\n",
    "    \n",
    "    parent_entropy = entropy([count for _, count in parent.items()])\n",
    "    left_entropy = entropy([count for _, count in left_child.items()])\n",
    "    right_entropy = entropy([count for _, count in right_child.items()])\n",
    "    \n",
    "    left_weight = sum(left_child.values()) / sum(parent.values())\n",
    "    right_weight = sum(right_child.values()) / sum(parent.values())\n",
    "    \n",
    "    return parent_entropy - (left_weight * left_entropy + right_weight * right_entropy)\n",
    "\n",
    "L = information_gain\n"
   ]
  },
  {
   "cell_type": "code",
   "execution_count": 15,
   "metadata": {},
   "outputs": [
    {
     "ename": "NameError",
     "evalue": "name 'tree' is not defined",
     "output_type": "error",
     "traceback": [
      "\u001b[0;31m---------------------------------------------------------------------------\u001b[0m",
      "\u001b[0;31mNameError\u001b[0m                                 Traceback (most recent call last)",
      "Cell \u001b[0;32mIn[15], line 22\u001b[0m\n\u001b[1;32m     18\u001b[0m         print_tree(node\u001b[38;5;241m.\u001b[39mright, depth \u001b[38;5;241m+\u001b[39m \u001b[38;5;241m1\u001b[39m)\n\u001b[1;32m     20\u001b[0m \u001b[38;5;66;03m# Example usage:\u001b[39;00m\n\u001b[1;32m     21\u001b[0m \u001b[38;5;66;03m# Assuming 'tree' is the root of your tree structure\u001b[39;00m\n\u001b[0;32m---> 22\u001b[0m print_tree(\u001b[43mtree\u001b[49m)\n",
      "\u001b[0;31mNameError\u001b[0m: name 'tree' is not defined"
     ]
    }
   ],
   "source": [
    "def print_tree(node, depth=0):\n",
    "    \"\"\"\n",
    "    Recursively prints the tree structure.\n",
    "    \n",
    "    :param node: The current node in the tree.\n",
    "    :param depth: The current depth of the node (used for indentation).\n",
    "    \"\"\"\n",
    "    if node is None:\n",
    "        return\n",
    "    \n",
    "    # Print the current node\n",
    "    print(\"  \" * depth + str(node))\n",
    "    \n",
    "    # Recursively print the children (assuming binary tree)\n",
    "    if hasattr(node, 'left'):\n",
    "        print_tree(node.left, depth + 1)\n",
    "    if hasattr(node, 'right'):\n",
    "        print_tree(node.right, depth + 1)\n",
    "\n",
    "# Example usage:\n",
    "# Assuming 'tree' is the root of your tree structure\n",
    "print_tree(tree)\n"
   ]
  },
  {
   "cell_type": "code",
   "execution_count": null,
   "metadata": {},
   "outputs": [
    {
     "name": "stdout",
     "output_type": "stream",
     "text": [
      "<__main__.Node object at 0x15c8bf160>\n"
     ]
    }
   ],
   "source": [
    "\n",
    "# Define maximum height of the tree and minimum samples per leaf\n",
    "max_height = 5\n",
    "min_samples = 10\n",
    "\n",
    "# Build the tree\n",
    "tree = rpts_tree(Ts, M, L, max_height, min_samples)\n",
    "\n",
    "# Print the tree structure\n",
    "print_tree(tree)\n"
   ]
  },
  {
   "cell_type": "code",
   "execution_count": null,
   "metadata": {},
   "outputs": [
    {
     "name": "stdout",
     "output_type": "stream",
     "text": [
      "<__main__.Node object at 0x15751c9d0>\n"
     ]
    }
   ],
   "source": [
    "print(tree)"
   ]
  }
 ],
 "metadata": {
  "kernelspec": {
   "display_name": "DSS",
   "language": "python",
   "name": "python3"
  },
  "language_info": {
   "codemirror_mode": {
    "name": "ipython",
    "version": 3
   },
   "file_extension": ".py",
   "mimetype": "text/x-python",
   "name": "python",
   "nbconvert_exporter": "python",
   "pygments_lexer": "ipython3",
   "version": "3.12.1"
  }
 },
 "nbformat": 4,
 "nbformat_minor": 2
}
